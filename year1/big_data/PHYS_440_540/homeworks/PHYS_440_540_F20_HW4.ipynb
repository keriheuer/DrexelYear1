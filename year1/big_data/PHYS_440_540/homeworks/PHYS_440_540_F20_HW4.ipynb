{
 "cells": [
  {
   "cell_type": "markdown",
   "metadata": {},
   "source": [
    "# Homework 4: Problems\n",
    "## Due Wednesday 21 October, before class\n",
    "\n",
    "### PHYS 440/540, Fall 2020\n",
    "https://github.com/gtrichards/PHYS_440_540/\n",
    "\n",
    "\n",
    "## Problem 1\n",
    "\n",
    "What does the `s3` attribute measure in the `diabetes` dataset (which is built in to Scikit Learn)?\n",
    "\n",
    "\n",
    "## Problem 2\n",
    "\n",
    "Split the `iris` data into training (85%) and test (15%) sets. Do it once with shuffle=False and again with stratfify=y (where y is the name of the target variable). \n",
    "\n",
    "* Show the difference in the resulting \"test\" values of y.\n",
    "* Briefly discuss the differences.\n",
    "\n",
    "\n",
    "## Problem 3\n",
    "\n",
    "Use [datasets.make_blobs](https://scikit-learn.org/stable/modules/generated/sklearn.datasets.make_blobs.html#sklearn.datasets.make_blobs) to generate a fake sample of data.  It should have 100 data points each with 3 attributes/features where the objects are grouped into 4 clusters/groups.  Use `random_state=12345678`.\n",
    "\n",
    "Illustrate with a 2-D plot of two of the attributes.  Show `X` as a 100x3 table of data.  Extra credit: Do it in Pandas and give each of the attributes a name.\n",
    "\n",
    "See below for starter code"
   ]
  },
  {
   "cell_type": "markdown",
   "metadata": {},
   "source": [
    "---"
   ]
  },
  {
   "cell_type": "markdown",
   "metadata": {},
   "source": [
    "Starter code for Problem 3"
   ]
  },
  {
   "cell_type": "code",
   "execution_count": null,
   "metadata": {},
   "outputs": [],
   "source": [
    "from sklearn import ____\n",
    "____,____ = datasets.make_blobs(____=____,____=____,____=____,____=____)"
   ]
  },
  {
   "cell_type": "code",
   "execution_count": null,
   "metadata": {},
   "outputs": [],
   "source": [
    "import numpy as ____\n",
    "import matplotlib.pyplot as ____\n",
    "from matplotlib import cm\n",
    "\n",
    "plt.figure() #setup plot\n",
    "\n",
    "#Needed to plot clusters in color according to their labels\n",
    "y_unique = np.unique(y) \n",
    "colors = cm.rainbow(np.linspace(0.0, 1.0, y_unique.size))\n",
    "for this_y, color in zip(y_unique, colors):\n",
    "    this_X = X[y == this_y]\n",
    "    # Plot the first two columns for all of the objects\n",
    "    plt.scatter(this_X[____,____], this_X[____,____], c=color[np.newaxis, :],\\\n",
    "                alpha=0.5, edgecolor='k', label=\"Class %s\" % this_y)\n",
    "    \n",
    "plt.legend(loc=\"best\")"
   ]
  }
 ],
 "metadata": {
  "anaconda-cloud": {},
  "kernelspec": {
   "display_name": "Python 3",
   "language": "python",
   "name": "python3"
  },
  "language_info": {
   "codemirror_mode": {
    "name": "ipython",
    "version": 3
   },
   "file_extension": ".py",
   "mimetype": "text/x-python",
   "name": "python",
   "nbconvert_exporter": "python",
   "pygments_lexer": "ipython3",
   "version": "3.8.3"
  }
 },
 "nbformat": 4,
 "nbformat_minor": 2
}
