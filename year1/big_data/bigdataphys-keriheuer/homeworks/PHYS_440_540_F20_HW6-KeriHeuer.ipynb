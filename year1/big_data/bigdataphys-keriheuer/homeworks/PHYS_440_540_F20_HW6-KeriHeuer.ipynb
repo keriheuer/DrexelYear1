{
 "cells": [
  {
   "cell_type": "markdown",
   "metadata": {},
   "source": [
    "# Homework 6: Problems\n",
    "## Due Wednesday 4 November, before class\n",
    "\n",
    "### PHYS 440/540, Fall 2020\n",
    "https://github.com/gtrichards/PHYS_440_540/\n",
    "\n",
    "\n",
    "## Problems 1\n",
    "\n",
    "Complete Chapter 4 of the *dimensionality reduction* course in Data Camp.\n",
    "\n",
    "## Problem 2&3\n",
    "\n",
    "Do 2 more Data Camp chapters of your choice from within the following:\n",
    "* Interactive Data Visualization with Bokeh\n",
    "* Dimensionality reduction\n",
    "* Introduction to Data Visualization in Python\n",
    "* Introduction to Data Visualization with Matplotlib\n",
    "* Introduction to Data Visualization with Seaborn\n",
    "* Intermediate Data Visualization with Seaborn\n",
    "* Data Visualization for Everyone\n",
    "\n",
    "I'm not going to assign all of them as that will just cause confusion (in that you might think that I'm assigning 20 hours of work!).  So, you are just going to tell me which 2 chapters you completed from among all the choices in this list of courses.  Do this by filling in the Course/Chapter title in the cell below.  Scroll through the course outlines first to see which ones look the most interesting/useful to you."
   ]
  },
  {
   "cell_type": "markdown",
   "metadata": {},
   "source": [
    "Chapters completed for Problems 2 & 3:\n",
    "* 2: Introduction to Data Visualization with Seaborn Chapter 1\n",
    "* 3: Pandas foundation (I didn't see HW 6 notebook after doing git pull do I didn't know there were specific chapters to pick from and did this one instead) \n",
    "    -- I just completed Chapter 2 of Intro to Data Visualization with Seaborn"
   ]
  },
  {
   "cell_type": "markdown",
   "metadata": {},
   "source": [
    "## Extra Credit\n",
    "\n",
    "You will get extra credit (0.1 of 5 HW points) if you indicate in the cell below that you:\n",
    "* Voted (please don't say for whom)\n",
    "* Are ineligible to vote (for whatever reason)\n",
    "* Find it inappropriate for some reason that I'd encourage voting in this way\n",
    "\n",
    "You just need to type \"Extra Credit Please\", or \"Yes\", etc.  The only reason that you wouldn't do that is if you are eligible to vote and didn't do so (and are unwilling to lie about it)."
   ]
  },
  {
   "cell_type": "markdown",
   "metadata": {},
   "source": [
    "Extra Credit Please"
   ]
  },
  {
   "cell_type": "markdown",
   "metadata": {},
   "source": [
    "---"
   ]
  }
 ],
 "metadata": {
  "anaconda-cloud": {},
  "kernelspec": {
   "display_name": "Python 3",
   "language": "python",
   "name": "python3"
  },
  "language_info": {
   "codemirror_mode": {
    "name": "ipython",
    "version": 3
   },
   "file_extension": ".py",
   "mimetype": "text/x-python",
   "name": "python",
   "nbconvert_exporter": "python",
   "pygments_lexer": "ipython3",
   "version": "3.8.3"
  }
 },
 "nbformat": 4,
 "nbformat_minor": 2
}
