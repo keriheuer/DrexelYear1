{
 "cells": [
  {
   "cell_type": "markdown",
   "metadata": {},
   "source": [
    "# Homework 8: Problems\n",
    "## Due Wednesday 2 December, by 9:29am\n",
    "\n",
    "### PHYS 440/540, Fall 2020\n",
    "https://github.com/gtrichards/PHYS_440_540/\n",
    "\n",
    "\n",
    "## Problems 1\n",
    "\n",
    "Complete Chapter 1 in *Introduction to Deep Learning with Keras* in Data Camp.\n",
    "\n",
    "\n",
    "\n",
    "## Problem 2\n",
    "\n",
    "Complete Chapter 2 in *Introduction to Deep Learning with Keras* in Data Camp.\n",
    "\n",
    "\n",
    "## Problem 3\n",
    "\n",
    "Complete Chapter 3 in *Introduction to Deep Learning with Keras* in Data Camp.\n"
   ]
  }
 ],
 "metadata": {
  "anaconda-cloud": {},
  "kernelspec": {
   "display_name": "Python 3",
   "language": "python",
   "name": "python3"
  },
  "language_info": {
   "codemirror_mode": {
    "name": "ipython",
    "version": 3
   },
   "file_extension": ".py",
   "mimetype": "text/x-python",
   "name": "python",
   "nbconvert_exporter": "python",
   "pygments_lexer": "ipython3",
   "version": "3.8.5"
  }
 },
 "nbformat": 4,
 "nbformat_minor": 2
}
